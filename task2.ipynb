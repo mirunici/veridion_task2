{
  "cells": [
    {
      "cell_type": "code",
      "execution_count": 49,
      "metadata": {
        "colab": {
          "base_uri": "https://localhost:8080/"
        },
        "id": "Hl4BIuC5sxhD",
        "outputId": "9da682b3-7394-4e9e-c04e-56422bef489f"
      },
      "outputs": [
        {
          "output_type": "stream",
          "name": "stdout",
          "text": [
            "Drive already mounted at /content/drive; to attempt to forcibly remount, call drive.mount(\"/content/drive\", force_remount=True).\n"
          ]
        }
      ],
      "source": [
        "import pandas as pd\n",
        "\n",
        "from google.colab import drive\n",
        "drive.mount('/content/drive')\n"
      ]
    },
    {
      "cell_type": "code",
      "execution_count": 50,
      "metadata": {
        "colab": {
          "base_uri": "https://localhost:8080/"
        },
        "id": "UPql51RR0RX8",
        "outputId": "ec0542d8-8500-446a-e445-6a17dc00c7d3"
      },
      "outputs": [
        {
          "output_type": "stream",
          "name": "stdout",
          "text": [
            "                                label\n",
            "0     Agricultural Equipment Services\n",
            "1  Soil Nutrient Application Services\n",
            "2      Pesticide Application Services\n",
            "3          Ornamental Plant Nurseries\n",
            "4                Landscaping Services\n"
          ]
        }
      ],
      "source": [
        "taxonomy_path = \"/content/drive/MyDrive/Task_Data/insurance_taxonomy.xlsx\"\n",
        "\n",
        "taxonomy_df = pd.read_excel(taxonomy_path)\n",
        "\n",
        "print(taxonomy_df.head())"
      ]
    },
    {
      "cell_type": "code",
      "execution_count": 51,
      "metadata": {
        "colab": {
          "base_uri": "https://localhost:8080/"
        },
        "id": "YZeZUpwy0F8K",
        "outputId": "f06b0d73-f0ab-4bdb-c0a5-e383bd66d65d"
      },
      "outputs": [
        {
          "output_type": "stream",
          "name": "stdout",
          "text": [
            "                                         description  \\\n",
            "0  Welchcivils is a civil engineering and constru...   \n",
            "1  Kyoto Vegetable Specialists Uekamo, also known...   \n",
            "2  Loidholdhof Integrative Hofgemeinschaft is a c...   \n",
            "3  PATAGONIA Chapa Y Pintura is an auto body shop...   \n",
            "4  Stanica WODNA PTTK Swornegacie is a cultural e...   \n",
            "\n",
            "                                       business_tags         sector  \\\n",
            "0  ['Construction Services', 'Multi-utilities', '...       Services   \n",
            "1  ['Wholesale', 'Dual-task Movement Products', '...  Manufacturing   \n",
            "2  ['Living Forms', 'Farm Cafe', 'Fresh Coffee', ...  Manufacturing   \n",
            "3  ['Automotive Body Repair Services', 'Interior ...       Services   \n",
            "4  ['Cultural Activities', 'Accommodation Service...       Services   \n",
            "\n",
            "                               category  \\\n",
            "0            Civil Engineering Services   \n",
            "1  Fruit & Vegetable - Markets & Stores   \n",
            "2        Farms & Agriculture Production   \n",
            "3                       Auto Body Shops   \n",
            "4                  Boat Tours & Cruises   \n",
            "\n",
            "                                               niche  \n",
            "0     Other Heavy and Civil Engineering Construction  \n",
            "1   Frozen Fruit, Juice, and Vegetable Manufacturing  \n",
            "2               All Other Miscellaneous Crop Farming  \n",
            "3  Automotive Body, Paint, and Interior Repair an...  \n",
            "4       Scenic and Sightseeing Transportation, Water  \n"
          ]
        }
      ],
      "source": [
        "companies_path = \"/content/drive/MyDrive/Task_Data/ml_insurance_challenge.csv\"\n",
        "\n",
        "companies_df = pd.read_csv(companies_path)\n",
        "\n",
        "print(companies_df.head())"
      ]
    },
    {
      "cell_type": "code",
      "execution_count": 52,
      "metadata": {
        "colab": {
          "base_uri": "https://localhost:8080/"
        },
        "id": "OBu-5wiC_OYt",
        "outputId": "601ae311-58cc-4ab2-9b10-4a79efdb656a"
      },
      "outputs": [
        {
          "output_type": "stream",
          "name": "stdout",
          "text": [
            "0    welchcivils civil engineering construction com...\n",
            "1    kyoto vegetable specialist uekamo also known i...\n",
            "2    loidholdhof integrative hofgemeinschaft compan...\n",
            "3    patagonia chapa pintura auto body shop located...\n",
            "4    stanica wodna pttk swornegacie cultural establ...\n",
            "Name: description_cleaned, dtype: object\n"
          ]
        }
      ],
      "source": [
        "import re\n",
        "import string\n",
        "from nltk.corpus import stopwords\n",
        "from nltk.stem import WordNetLemmatizer\n",
        "import nltk\n",
        "\n",
        "nltk.download('stopwords', quiet=True)\n",
        "nltk.download('wordnet', quiet=True)\n",
        "\n",
        "lemmatizer = WordNetLemmatizer()\n",
        "stop_words = set(stopwords.words('english'))\n",
        "\n",
        "def clean_text(text):\n",
        "\n",
        "    if not text or isinstance(text, float):\n",
        "        return \"\"\n",
        "\n",
        "    text = str(text).lower()\n",
        "    text = re.sub(r\"[^a-zAhetics\\s]\", \" \", text)\n",
        "    text = ''.join([char for char in text if char not in string.punctuation])\n",
        "\n",
        "    words = [word for word in text.split() if word not in stop_words]\n",
        "    words = [lemmatizer.lemmatize(word) for word in words]\n",
        "\n",
        "    return \" \".join(words)\n",
        "\n",
        "companies_df['description_cleaned'] = companies_df['description'].apply(clean_text)\n",
        "\n",
        "print(companies_df['description_cleaned'].head())\n"
      ]
    },
    {
      "cell_type": "code",
      "execution_count": 53,
      "metadata": {
        "id": "awtq7W-VPVnz"
      },
      "outputs": [],
      "source": [
        "from collections import Counter\n",
        "\n",
        "def get_top_5_words(text):\n",
        "    words = clean_text(text).split()\n",
        "    word_counts = Counter(words)\n",
        "    return word_counts.most_common(5)\n",
        "\n",
        "companies_df['top_5_words'] = companies_df['description_cleaned'].apply(get_top_5_words)"
      ]
    },
    {
      "cell_type": "code",
      "execution_count": 58,
      "metadata": {
        "colab": {
          "base_uri": "https://localhost:8080/"
        },
        "id": "t99dCKT0HUdW",
        "outputId": "4993e765-7981-4f92-a743-3643b968aa56"
      },
      "outputs": [
        {
          "output_type": "stream",
          "name": "stdout",
          "text": [
            "                                         description  \\\n",
            "0  Welchcivils is a civil engineering and constru...   \n",
            "1  Kyoto Vegetable Specialists Uekamo, also known...   \n",
            "2  Loidholdhof Integrative Hofgemeinschaft is a c...   \n",
            "3  PATAGONIA Chapa Y Pintura is an auto body shop...   \n",
            "4  Stanica WODNA PTTK Swornegacie is a cultural e...   \n",
            "\n",
            "                    assigned_taxonomy  \n",
            "0  Multi-Family Construction Services  \n",
            "1     Agricultural Equipment Services  \n",
            "2       Community Engagement Services  \n",
            "3            Interior Design Services  \n",
            "4           Well Maintenance Services  \n"
          ]
        }
      ],
      "source": [
        "import pandas as pd\n",
        "from sklearn.feature_extraction.text import TfidfVectorizer\n",
        "from sklearn.metrics.pairwise import cosine_similarity\n",
        "\n",
        "companies_df['description_cleaned'] = companies_df['description_cleaned'].apply(lambda x: (x + ' ') * 1)\n",
        "companies_df['business_tags'] = companies_df['business_tags'].apply(lambda x: (x + ' ') * 2)\n",
        "companies_df['sector'] = companies_df['sector'].fillna('').apply(lambda x: (x + ' ') * 1)\n",
        "companies_df['category'] = companies_df['category'].fillna('').apply(lambda x: (x + ' ') * 3)\n",
        "companies_df['niche'] = companies_df['niche'].apply(lambda x: (x + ' ') * 1)\n",
        "\n",
        "companies_df['combined_text'] = (\n",
        "    companies_df['description_cleaned'] +\n",
        "    companies_df['business_tags'] +\n",
        "    companies_df['sector'] + ' ' +\n",
        "    companies_df['category'] + ' ' +\n",
        "    companies_df['niche']\n",
        ")\n",
        "\n",
        "vectorizer = TfidfVectorizer(stop_words='english')\n",
        "\n",
        "combined_text = taxonomy_df['label'].tolist() + companies_df['combined_text'].tolist()\n",
        "\n",
        "vectorizer.fit(combined_text)\n",
        "\n",
        "taxonomy_vectors = vectorizer.transform(taxonomy_df['label'])\n",
        "company_vectors = vectorizer.transform(companies_df['combined_text'])\n",
        "\n",
        "def assign_taxonomy_to_company(row):\n",
        "\n",
        "    top_words = [word for word, _ in row['top_5_words']]\n",
        "    top_words_text = ' '.join(top_words * 5)\n",
        "\n",
        "    full_text = row['combined_text'] + ' ' + top_words_text\n",
        "    company_vector = vectorizer.transform([full_text])\n",
        "\n",
        "    similarities = cosine_similarity(company_vector, taxonomy_vectors)\n",
        "    most_similar_index = similarities.argmax()\n",
        "\n",
        "    return taxonomy_df.iloc[most_similar_index]['label']\n",
        "\n",
        "companies_df['assigned_taxonomy'] = companies_df.apply(assign_taxonomy_to_company, axis=1)\n",
        "\n",
        "print(companies_df[['description', 'assigned_taxonomy']].head())\n"
      ]
    },
    {
      "cell_type": "code",
      "source": [
        "import pandas as pd\n",
        "\n",
        "companies_df2 = pd.read_csv(companies_path)\n",
        "\n",
        "companies_df2['assigned_taxonomy'] = companies_df['assigned_taxonomy']\n",
        "\n",
        "companies_df2.to_csv(companies_path, index=False)"
      ],
      "metadata": {
        "id": "0THR20ZsYyN9"
      },
      "execution_count": 59,
      "outputs": []
    },
    {
      "cell_type": "code",
      "source": [
        "import numpy as np\n",
        "from sklearn.metrics.pairwise import cosine_similarity\n",
        "\n",
        "for idx, row in companies_df.head(10).iterrows():\n",
        "    if row['combined_text'] is not None and row['combined_text'].strip() != \"\":\n",
        "        company_vector = company_vectors[idx]\n",
        "        similarity_scores = cosine_similarity(company_vector, taxonomy_vectors)\n",
        "\n",
        "        sorted_indices = np.argsort(similarity_scores.flatten())[::-1]\n",
        "\n",
        "        top_3_indices = sorted_indices[:3]\n",
        "        top_3_labels = taxonomy_df.iloc[top_3_indices]['label'].values\n",
        "        top_3_scores = similarity_scores.flatten()[top_3_indices]\n",
        "\n",
        "        print(f\"Company: {row['description']}\")\n",
        "        print(\"Top 3 Predicted Taxonomies with Similarity Scores:\")\n",
        "        for label, score in zip(top_3_labels, top_3_scores):\n",
        "            print(f\"{label}: {score:.4f}\")\n",
        "\n",
        "        print(\"\\n\")\n",
        "    else:\n",
        "        print(f\"Company at index {idx} has no valid combined text.\\n\")\n"
      ],
      "metadata": {
        "id": "T44qbt1sSAgJ",
        "outputId": "34cabc0d-956a-42f0-b291-cb432de6fee7",
        "colab": {
          "base_uri": "https://localhost:8080/"
        }
      },
      "execution_count": 22,
      "outputs": [
        {
          "output_type": "stream",
          "name": "stdout",
          "text": [
            "Company: Welchcivils is a civil engineering and construction company that specializes in designing and building utility network connections across the UK. They offer multi-utility solutions that combine electricity, gas, water, and fibre optic installation into a single contract. Their design engineer teams are capable of designing electricity, water and gas networks from existing network connection points to meter locations at the development, as well as project management of reinforcements and diversions. They provide custom connection solutions that take into account any existing assets, maximize the usage of every trench, and meet project deadlines. Welchcivils has considerable expertise installing gas and electricity connections in a variety of market categories, including residential, commercial, and industrial projects, as as well.\n",
            "Top 3 Predicted Taxonomies with Similarity Scores:\n",
            "Multi-Family Construction Services: 0.1409\n",
            "Gas Installation Services: 0.0954\n",
            "Commercial Construction Services: 0.0923\n",
            "\n",
            "\n",
            "Company: Kyoto Vegetable Specialists Uekamo, also known as Iwa-machi, is a company based in Kyoto, Japan that specializes in the sale of vegetables. They have been in business for ten years and offer a collection of vegetable recipes through their Keiō Vegetable Recipe Collection and Online Shop. The company is directly owned by Uekamoo Farm, Uekame Farm, and Lobechi Shijo-hara Farm. They offer a variety of vegetable products, including suguki-zuke and Kamoo eggplant, and also accept production cultivation according to customer requests. Iwaichi Limited Company uses their experience in production and sales to provide tailored vegetables to meet customer needs and also accepts cultivation of products according to their requirements.\n",
            "Top 3 Predicted Taxonomies with Similarity Scores:\n",
            "Agricultural Equipment Services: 0.0322\n",
            "Non-Alcoholic Beverage Manufacturing: 0.0271\n",
            "Agricultural Machinery Installation: 0.0248\n",
            "\n",
            "\n",
            "Company: Loidholdhof Integrative Hofgemeinschaft is a company that offers a range of services and products to its customers. Their products are all handmade and of the highest quality, produced on a biodynamic basis with a focus on freshness and quality. The company's product range includes homemade bread, honey from their own beekeeping, syrup, and fresh vegetables, which can be purchased in their farm shop. In addition to their farm products, they also have a farm shop and cafe where customers can enjoy fresh coffee and delicious cakes.\n",
            "Top 3 Predicted Taxonomies with Similarity Scores:\n",
            "Paper Production Services: 0.2032\n",
            "Media Production Services: 0.2011\n",
            "Dairy Production Services: 0.1817\n",
            "\n",
            "\n",
            "Company: PATAGONIA Chapa Y Pintura is an auto body shop located in Comodoro Rivadavia, Chubut Province, Argentina. The company specializes in providing auto body repair services.\n",
            "Top 3 Predicted Taxonomies with Similarity Scores:\n",
            "Interior Design Services: 0.0458\n",
            "Boiler Repair Services: 0.0440\n",
            "Well Maintenance Services: 0.0100\n",
            "\n",
            "\n",
            "Company: Stanica WODNA PTTK Swornegacie is a cultural establishment located in Swornychgaciach, Poland. It is a popular destination for kayakers and tourists of all levels, offering a variety of activities and events. The establishment is managed by Zbigniew Galiński.\n",
            "Top 3 Predicted Taxonomies with Similarity Scores:\n",
            "Well Maintenance Services: 0.0081\n",
            "Consulting Services: 0.0076\n",
            "Training Services: 0.0076\n",
            "\n",
            "\n",
            "Company: BIQ Benefícios is a Brazilian company that specializes in generating benefits for both individuals and businesses. With a structure of three large companies in the food sector and 20 years of experience, BIQ Beneficios has extensive knowledge in this field. The company aims to revolutionize the market through quality services for its customers, accredited employees, and collaborators. BIQ Benefits is duly accredited by the PAT (Worker Food Program) and offers a wide network of accredited establishments that provides employees with the freedom to choose healthy food options. The BIQ Duo card is perfect for those who travel frequently. The app allows users to perform balance queries and statements of BIQ cards, as well as see the average daily spending so that their balance lasts until the end of the month.\n",
            "Top 3 Predicted Taxonomies with Similarity Scores:\n",
            "Food Processing Services: 0.3191\n",
            "Meat Processing Services: 0.2377\n",
            "Frozen Food Processing: 0.2323\n",
            "\n",
            "\n",
            "Company: EnvCompli is a company that provides personalized Industrial General Permit (IGP) Management services for Storm Water Compliance needs. They offer an assigned specialist to meet all your needs, coordinate your lab sample results, and manage your SMARTs account. Their services include preparing a Storm Water Pollution Prevention Plan (Swppp) with on-site evaluation, BMPs evaluation, Monitoring Implementation Plan, Site Map, and SWPPP revision. They also provide customized Inspection Forms to meet your facility needs. EnvComplI was founded by a Stormwater Compliance expert with experience in various industries such as transportation, metal fabrication, scrap metals, plastic film & extrusion, food processing, oil & gas, wood mills, and aerospace. They provide on-the-spot NEC evaluation and solution to ensure the NEC requirements have been met. Additionally, they offer SMART data entry for AdHoc Report (Lab Report) and Annual Report.\n",
            "Top 3 Predicted Taxonomies with Similarity Scores:\n",
            "Environmental Health Services: 0.5798\n",
            "Environmental Consulting: 0.5496\n",
            "Event Planning Services: 0.0811\n",
            "\n",
            "\n",
            "Company: Corrugated Beam Form Ltd is a company based in Walsall, England, specializing in the supply of concrete products.\n",
            "Top 3 Predicted Taxonomies with Similarity Scores:\n",
            "Building Cleaning Services: 0.3156\n",
            "Vacant Building Management: 0.1966\n",
            "Gas Installation Services: 0.0864\n",
            "\n",
            "\n",
            "Company: The company specializes in the production and distribution of packaging materials, including cardboard sealing tape, wholesale packaging, and packaging supplies. They also offer printed packaging services.\n",
            "Top 3 Predicted Taxonomies with Similarity Scores:\n",
            "Paper Production Services: 0.5016\n",
            "Industrial Machinery Installation: 0.0007\n",
            "Industrial Plumbing Services: 0.0007\n",
            "\n",
            "\n",
            "Company: Indira Caterz And Event Managerzz is a company categorized under restaurant supply stores. It is located in Alappuzha, Kerala, India. The company specializes in providing supplies for restaurants and event management services.\n",
            "Top 3 Predicted Taxonomies with Similarity Scores:\n",
            "Agricultural Equipment Services: 0.2318\n",
            "Fire Safety Equipment Services: 0.2274\n",
            "Commercial Communication Equipment Installation: 0.1512\n",
            "\n",
            "\n"
          ]
        }
      ]
    }
  ],
  "metadata": {
    "colab": {
      "provenance": [],
      "authorship_tag": "ABX9TyPzGfqrL5VpLwhbeft5EYN5"
    },
    "kernelspec": {
      "display_name": "Python 3",
      "name": "python3"
    },
    "language_info": {
      "name": "python"
    }
  },
  "nbformat": 4,
  "nbformat_minor": 0
}